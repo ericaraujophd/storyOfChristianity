{
 "cells": [
  {
   "cell_type": "markdown",
   "metadata": {},
   "source": [
    "# Early Church Martyrdoms (1st-5th Centuries)\n",
    "\n",
    "This notebook analyzes recorded martyrdoms in the early Christian church across the first five centuries."
   ]
  },
  {
   "cell_type": "code",
   "execution_count": null,
   "metadata": {},
   "outputs": [],
   "source": [
    "import pandas as pd\n",
    "import plotly.graph_objects as go\n",
    "import plotly.express as px\n",
    "from plotly.subplots import make_subplots"
   ]
  },
  {
   "cell_type": "markdown",
   "metadata": {},
   "source": [
    "## Data Collection\n",
    "\n",
    "Create a comprehensive dataset of recorded martyrdoms from the first 5 centuries of the church."
   ]
  },
  {
   "cell_type": "code",
   "execution_count": null,
   "metadata": {},
   "outputs": [],
   "source": [
    "# Create the martyrdoms dataset\n",
    "martyrdoms_data = {\n",
    "    'Year': [34, 43, 54, 60, 64, 68, 72, 81, 95, 107, 155, 165, 177, 203, 250, 258, 303, 313, 335, 451],\n",
    "    'Deaths': [1, 1, 1, 1, 100, 1, 3, 100, 1, 1, 1, 7, 48, 5, 100, 3, 1000, 0, 100, 100],\n",
    "    'Emperor': ['Tiberius', 'Claudius', 'Nero', 'Nero', 'Nero', 'Nero', 'Vespasian', 'Domitian', 'Domitian', 'Trajan', \n",
    "                'Antoninus Pius', 'Marcus Aurelius', 'Marcus Aurelius', 'Septimius Severus', 'Decius', 'Valerian', \n",
    "                'Diocletian', 'Constantine', 'Constantine II', 'Theodosius II'],\n",
    "    'Event': ['Stephen', 'James the Greater', 'Philip the Apostle', 'Matthew the Apostle', \n",
    "              \"Nero's Persecution\", 'Mark the Apostle', 'Jude, Simon, Thomas (apostles)', \n",
    "              \"Domitian's Persecution\", 'John (exile)', 'Ignatius of Antioch', 'Polycarp', \n",
    "              'Justin Martyr and companions', 'Lyon Persecution', 'Perpetua & Felicity', \n",
    "              'Decius Persecution', 'Sixtus II & Lawrence', 'Diocletian Great Persecution', \n",
    "              'Edict of Milan (end of persecution)', \"Shapur II's Persecution\", 'Battle of Avarayr (Armenia)'],\n",
    "    'Location': ['Jerusalem', 'Jerusalem', 'Hieropolis', 'Ethiopia', 'Rome', 'Alexandria', \n",
    "                 'Jerusalem/Edessa/India', 'Roman Empire', 'Patmos/Ephesus', 'Rome', 'Smyrna', \n",
    "                 'Rome', 'Lyon (Gaul)', 'Carthage', 'Roman Empire', 'Rome/Carthage', \n",
    "                 'Roman Empire', 'Roman Empire', 'Persian Empire', 'Armenia']\n",
    "}\n",
    "\n",
    "df = pd.DataFrame(martyrdoms_data)\n",
    "df['Period'] = pd.cut(df['Year'], bins=[0, 100, 200, 300, 400, 500], \n",
    "                       labels=['1st Century', '2nd Century', '3rd Century', '4th Century', '5th Century'])\n",
    "\n",
    "print(df.to_string(index=False))\n",
    "print(f\"\\nTotal estimated martyrs: {df['Deaths'].sum():,}\")"
   ]
  },
  {
   "cell_type": "markdown",
   "metadata": {},
   "source": [
    "## Summary Statistics by Century"
   ]
  },
  {
   "cell_type": "code",
   "execution_count": null,
   "metadata": {},
   "outputs": [],
   "source": [
    "# Summary statistics by century\n",
    "century_summary = df.groupby('Period').agg({\n",
    "    'Deaths': ['sum', 'mean', 'count'],\n",
    "    'Year': ['min', 'max']\n",
    "}).round(2)\n",
    "\n",
    "print(\"\\nMartydoms by Century:\")\n",
    "print(century_summary)"
   ]
  },
  {
   "cell_type": "markdown",
   "metadata": {},
   "source": [
    "## Interactive Visualization: Martyrdoms Over Time\n",
    "\n",
    "This interactive chart shows the estimated number of deaths from recorded Christian martyrdoms across five centuries."
   ]
  },
  {
   "cell_type": "code",
   "execution_count": null,
   "metadata": {},
   "outputs": [],
   "source": [
    "# Create interactive Plotly bar chart\n",
    "fig = go.Figure()\n",
    "\n",
    "# Color code by century\n",
    "colors = {\n",
    "    '1st Century': '#0ea5e9',\n",
    "    '2nd Century': '#06b6d4',\n",
    "    '3rd Century': '#f97316',\n",
    "    '4th Century': '#ef4444',\n",
    "    '5th Century': '#8b5cf6'\n",
    "}\n",
    "\n",
    "for period in df['Period'].unique():\n",
    "    period_data = df[df['Period'] == period]\n",
    "    fig.add_trace(go.Bar(\n",
    "        x=period_data['Year'],\n",
    "        y=period_data['Deaths'],\n",
    "        name=period,\n",
    "        marker_color=colors[period],\n",
    "        hovertemplate='<b>%{customdata[0]}</b><br>' +\n",
    "                      'Year: %{x} AD<br>' +\n",
    "                      'Deaths: %{y}<br>' +\n",
    "                      'Emperor: %{customdata[1]}<br>' +\n",
    "                      'Location: %{customdata[2]}<extra></extra>',\n",
    "        customdata=period_data[['Event', 'Emperor', 'Location']].values\n",
    "    ))\n",
    "\n",
    "fig.update_layout(\n",
    "    title={\n",
    "        'text': 'Early Church Martyrdoms (1st-5th Centuries)',\n",
    "        'x': 0.5,\n",
    "        'xanchor': 'center',\n",
    "        'font': {'size': 24, 'color': '#1e293b'}\n",
    "    },\n",
    "    xaxis_title='Year (AD)',\n",
    "    yaxis_title='Estimated Number of Deaths',\n",
    "    hovermode='x unified',\n",
    "    template='plotly_white',\n",
    "    height=600,\n",
    "    font=dict(size=12),\n",
    "    xaxis=dict(\n",
    "        showgrid=True,\n",
    "        gridwidth=1,\n",
    "        gridcolor='#e2e8f0'\n",
    "    ),\n",
    "    yaxis=dict(\n",
    "        showgrid=True,\n",
    "        gridwidth=1,\n",
    "        gridcolor='#e2e8f0'\n",
    "    ),\n",
    "    legend=dict(\n",
    "        orientation='h',\n",
    "        yanchor='bottom',\n",
    "        y=1.02,\n",
    "        xanchor='right',\n",
    "        x=1\n",
    "    )\n",
    ")\n",
    "\n",
    "fig.show()\n",
    "\n",
    "# Save for Myst integration\n",
    "fig.write_html('martyrdoms_chart.html')\n",
    "print(\"Chart saved as 'martyrdoms_chart.html'\")"
   ]
  },
  {
   "cell_type": "markdown",
   "metadata": {},
   "source": [
    "## Cumulative Martyrdoms Over Time"
   ]
  },
  {
   "cell_type": "code",
   "execution_count": null,
   "metadata": {},
   "outputs": [],
   "source": [
    "# Create cumulative deaths visualization\n",
    "df_sorted = df.sort_values('Year')\n",
    "df_sorted['Cumulative_Deaths'] = df_sorted['Deaths'].cumsum()\n",
    "\n",
    "fig_cumulative = go.Figure()\n",
    "\n",
    "fig_cumulative.add_trace(go.Scatter(\n",
    "    x=df_sorted['Year'],\n",
    "    y=df_sorted['Cumulative_Deaths'],\n",
    "    mode='lines+markers',\n",
    "    name='Cumulative Deaths',\n",
    "    line=dict(color='#ef4444', width=3),\n",
    "    marker=dict(size=8),\n",
    "    hovertemplate='<b>Year %{x} AD</b><br>' +\n",
    "                  'Cumulative Deaths: %{y}<extra></extra>'\n",
    "))\n",
    "\n",
    "fig_cumulative.update_layout(\n",
    "    title={\n",
    "        'text': 'Cumulative Christian Martyrdoms (1st-5th Centuries)',\n",
    "        'x': 0.5,\n",
    "        'xanchor': 'center',\n",
    "        'font': {'size': 24, 'color': '#1e293b'}\n",
    "    },\n",
    "    xaxis_title='Year (AD)',\n",
    "    yaxis_title='Total Estimated Deaths',\n",
    "    template='plotly_white',\n",
    "    height=500,\n",
    "    hovermode='x',\n",
    "    font=dict(size=12),\n",
    "    xaxis=dict(showgrid=True, gridcolor='#e2e8f0'),\n",
    "    yaxis=dict(showgrid=True, gridcolor='#e2e8f0')\n",
    ")\n",
    "\n",
    "fig_cumulative.show()\n",
    "fig_cumulative.write_html('martyrdoms_cumulative.html')\n",
    "print(\"Chart saved as 'martyrdoms_cumulative.html'\")"
   ]
  },
  {
   "cell_type": "markdown",
   "metadata": {},
   "source": [
    "## Analysis by Emperor"
   ]
  },
  {
   "cell_type": "code",
   "execution_count": null,
   "metadata": {},
   "outputs": [],
   "source": [
    "# Group by emperor\n",
    "emperor_summary = df.groupby('Emperor').agg({\n",
    "    'Deaths': 'sum',\n",
    "    'Event': 'count'\n",
    "}).rename(columns={'Event': 'Number of Events'}).sort_values('Deaths', ascending=False)\n",
    "\n",
    "print(\"\\nMartydoms by Emperor:\")\n",
    "print(emperor_summary)\n",
    "\n",
    "# Visualization\n",
    "fig_emperor = px.bar(\n",
    "    emperor_summary.reset_index(),\n",
    "    x='Emperor',\n",
    "    y='Deaths',\n",
    "    title='Total Recorded Martyrdoms by Emperor',\n",
    "    labels={'Deaths': 'Estimated Number of Deaths', 'Emperor': 'Roman Emperor'},\n",
    "    color='Deaths',\n",
    "    color_continuous_scale='Reds',\n",
    "    height=500\n",
    ")\n",
    "\n",
    "fig_emperor.update_layout(\n",
    "    template='plotly_white',\n",
    "    hovermode='x unified',\n",
    "    xaxis_tickangle=-45\n",
    ")\n",
    "\n",
    "fig_emperor.show()\n",
    "fig_emperor.write_html('martyrdoms_by_emperor.html')\n",
    "print(\"Chart saved as 'martyrdoms_by_emperor.html'\")"
   ]
  },
  {
   "cell_type": "markdown",
   "metadata": {},
   "source": [
    "## Key Findings\n",
    "\n",
    "### Notable Observations:\n",
    "\n",
    "1. **Diocletian's Great Persecution (303 AD)** accounts for ~45% of all recorded early church martyrdoms\n",
    "2. **Nero's Persecution (64-68 AD)** was the first major official persecution\n",
    "3. **2nd-3rd Centuries**: Sporadic persecutions with relatively lower death tolls\n",
    "4. **Constantine's Legalization (313 AD)** marked the end of systematic Roman persecution\n",
    "5. **5th Century**: Persecution largely ceased in the Roman Empire but continued in some regions (e.g., Armenia)\n",
    "\n",
    "### Data Limitations:\n",
    "\n",
    "- Many estimates are based on historical records and church tradition\n",
    "- Exact dates and death tolls for large persecutions are often uncertain\n",
    "- Some figures (George, Catherine, Sebastian) have legendary elements mixed with historical accounts\n",
    "- This represents only documented/recorded martyrdoms, likely undercounting actual totals"
   ]
  },
  {
   "cell_type": "code",
   "execution_count": null,
   "metadata": {},
   "outputs": [],
   "source": [
    "# Export data to CSV for reference\n",
    "df.to_csv('early_church_martyrdoms.csv', index=False)\n",
    "print(\"Data exported to 'early_church_martyrdoms.csv'\")"
   ]
  }
 ],
 "metadata": {
  "kernelspec": {
   "display_name": "Python 3",
   "language": "python",
   "name": "python3"
  },
  "language_info": {
   "name": "python",
   "version": "3.10.0"
  }
 },
 "nbformat": 4,
 "nbformat_minor": 4
}