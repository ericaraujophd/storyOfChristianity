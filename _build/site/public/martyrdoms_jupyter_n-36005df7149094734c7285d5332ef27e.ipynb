{
 "cells": [
  {
   "cell_type": "markdown",
   "metadata": {},
   "source": [
    "# Early Church Martyrdoms (1st-5th Centuries)\n",
    "\n",
    "This notebook analyzes recorded martyrdoms in the early Christian church across the first five centuries with interactive visualizations and geographic analysis."
   ]
  },
  {
   "cell_type": "code",
   "execution_count": null,
   "metadata": {},
   "outputs": [],
   "source": [
    "import pandas as pd\n",
    "import plotly.graph_objects as go\n",
    "import plotly.express as px"
   ]
  },
  {
   "cell_type": "markdown",
   "metadata": {},
   "source": [
    "## Data Collection\n",
    "\n",
    "Create a comprehensive dataset of recorded martyrdoms from the first 5 centuries of the church with geographic coordinates."
   ]
  },
  {
   "cell_type": "code",
   "execution_count": null,
   "metadata": {},
   "outputs": [
    {
     "name": "stdout",
     "output_type": "stream",
     "text": [
      " Year  Deaths           Emperor                               Event               Location  Latitude  Longitude      Period\n",
      "   34       1          Tiberius                             Stephen              Jerusalem    31.778     35.234 1st Century\n",
      "   43       1          Claudius                   James the Greater              Jerusalem    31.778     35.234 1st Century\n",
      "   54       1              Nero                  Philip the Apostle             Hieropolis    37.745     25.736 1st Century\n",
      "   60       1              Nero                 Matthew the Apostle               Ethiopia     9.145     40.500 1st Century\n",
      "   64     100              Nero                  Nero's Persecution                   Rome    41.902     12.496 1st Century\n",
      "   68       1              Nero                    Mark the Apostle             Alexandria    31.200     29.900 1st Century\n",
      "   72       3         Vespasian      Jude, Simon, Thomas (apostles) Jerusalem/Edessa/India    31.778     35.234 1st Century\n",
      "   81     100          Domitian              Domitian's Persecution           Roman Empire    37.500     15.000 1st Century\n",
      "   95       1          Domitian                        John (exile)         Patmos/Ephesus    37.500     27.000 1st Century\n",
      "  107       1            Trajan                 Ignatius of Antioch                   Rome    41.902     12.496 2nd Century\n",
      "  155       1    Antoninus Pius                            Polycarp                 Smyrna    38.640     26.240 2nd Century\n",
      "  165       7   Marcus Aurelius        Justin Martyr and companions                   Rome    41.902     12.496 2nd Century\n",
      "  177      48   Marcus Aurelius                    Lyon Persecution            Lyon (Gaul)    45.764      4.835 2nd Century\n",
      "  203       5 Septimius Severus                 Perpetua & Felicity               Carthage    36.753      3.059 3rd Century\n",
      "  250     100            Decius                  Decius Persecution           Roman Empire    37.500     15.000 3rd Century\n",
      "  258       3          Valerian                Sixtus II & Lawrence          Rome/Carthage    41.902     12.496 3rd Century\n",
      "  303    1000        Diocletian        Diocletian Great Persecution           Roman Empire    37.500     15.000 4th Century\n",
      "  313       0       Constantine Edict of Milan (end of persecution)           Roman Empire    37.500     15.000 4th Century\n",
      "  335     100    Constantine II             Shapur II's Persecution         Persian Empire    32.500     53.700 4th Century\n",
      "  451     100     Theodosius II         Battle of Avarayr (Armenia)                Armenia    40.000     45.000 5th Century\n",
      "\n",
      "Total estimated martyrs: 1,574\n"
     ]
    }
   ],
   "source": [
    "# Create the martyrdoms dataset with geographic coordinates\n",
    "martyrdoms_data = {\n",
    "    'Year': [34, 43, 54, 60, 64, 68, 72, 81, 95, 107, 155, 165, 177, 203, 250, 258, 303, 313, 335, 451],\n",
    "    'Deaths': [1, 1, 1, 1, 100, 1, 3, 100, 1, 1, 1, 7, 48, 5, 100, 3, 1000, 0, 100, 100],\n",
    "    'Emperor': ['Tiberius', 'Claudius', 'Nero', 'Nero', 'Nero', 'Nero', 'Vespasian', 'Domitian', 'Domitian', 'Trajan', \n",
    "                'Antoninus Pius', 'Marcus Aurelius', 'Marcus Aurelius', 'Septimius Severus', 'Decius', 'Valerian', \n",
    "                'Diocletian', 'Constantine', 'Constantine II', 'Theodosius II'],\n",
    "    'Event': ['Stephen', 'James the Greater', 'Philip the Apostle', 'Matthew the Apostle', \n",
    "              \"Nero's Persecution\", 'Mark the Apostle', 'Jude, Simon, Thomas (apostles)', \n",
    "              \"Domitian's Persecution\", 'John (exile)', 'Ignatius of Antioch', 'Polycarp', \n",
    "              'Justin Martyr and companions', 'Lyon Persecution', 'Perpetua & Felicity', \n",
    "              'Decius Persecution', 'Sixtus II & Lawrence', 'Diocletian Great Persecution', \n",
    "              'Edict of Milan (end of persecution)', \"Shapur II's Persecution\", 'Battle of Avarayr (Armenia)'],\n",
    "    'Location': ['Jerusalem', 'Jerusalem', 'Hieropolis', 'Ethiopia', 'Rome', 'Alexandria', \n",
    "                 'Jerusalem/Edessa/India', 'Roman Empire', 'Patmos/Ephesus', 'Rome', 'Smyrna', \n",
    "                 'Rome', 'Lyon (Gaul)', 'Carthage', 'Roman Empire', 'Rome/Carthage', \n",
    "                 'Roman Empire', 'Roman Empire', 'Persian Empire', 'Armenia'],\n",
    "    'Latitude': [31.778, 31.778, 37.745, 9.145, 41.902, 31.200, 31.778, 37.5, 37.5, 41.902, 38.640, \n",
    "                 41.902, 45.764, 36.753, 37.5, 41.902, 37.5, 37.5, 32.5, 40.0],\n",
    "    'Longitude': [35.234, 35.234, 25.736, 40.500, 12.496, 29.900, 35.234, 15.0, 27.0, 12.496, 26.240, \n",
    "                  12.496, 4.835, 3.059, 15.0, 12.496, 15.0, 15.0, 53.7, 45.0]\n",
    "}\n",
    "\n",
    "df = pd.DataFrame(martyrdoms_data)\n",
    "df['Period'] = pd.cut(df['Year'], bins=[0, 100, 200, 300, 400, 500], \n",
    "                       labels=['1st Century', '2nd Century', '3rd Century', '4th Century', '5th Century'])\n",
    "\n",
    "print(df.to_string(index=False))\n",
    "print(f\"\\nTotal estimated martyrs: {df['Deaths'].sum():,}\")"
   ]
  },
  {
   "cell_type": "markdown",
   "metadata": {},
   "source": [
    "## Summary Statistics by Century"
   ]
  },
  {
   "cell_type": "code",
   "execution_count": null,
   "metadata": {},
   "outputs": [
    {
     "name": "stdout",
     "output_type": "stream",
     "text": [
      "\n",
      "Martydoms by Century:\n",
      "            Deaths              \n",
      "               sum    mean count\n",
      "Period                          \n",
      "1st Century    209   23.22     9\n",
      "2nd Century     57   14.25     4\n",
      "3rd Century    108   36.00     3\n",
      "4th Century   1100  366.67     3\n",
      "5th Century    100  100.00     1\n"
     ]
    },
    {
     "name": "stderr",
     "output_type": "stream",
     "text": [
      "/var/folders/nh/z1jf748x19108fww13nyfydw0000gp/T/ipykernel_16463/778530107.py:2: FutureWarning: The default of observed=False is deprecated and will be changed to True in a future version of pandas. Pass observed=False to retain current behavior or observed=True to adopt the future default and silence this warning.\n",
      "  century_summary = df.groupby('Period').agg({\n"
     ]
    }
   ],
   "source": [
    "# Summary statistics by century\n",
    "century_summary = df.groupby('Period').agg({\n",
    "    'Deaths': ['sum', 'mean', 'count']\n",
    "}).round(2)\n",
    "\n",
    "print(\"\\nMartydoms by Century:\")\n",
    "print(century_summary)"
   ]
  },
  {
   "cell_type": "markdown",
   "metadata": {},
   "source": [
    "## Interactive Visualization: Martyrdoms Over Time"
   ]
  },
  {
   "cell_type": "code",
   "execution_count": null,
   "metadata": {},
   "outputs": [
    {
     "data": {
      "application/vnd.plotly.v1+json": {
       "config": {
        "plotlyServerURL": "https://plot.ly"
       },
       "data": [
        {
         "customdata": [
          [
           "Stephen",
           "Tiberius",
           "Jerusalem"
          ],
          [
           "James the Greater",
           "Claudius",
           "Jerusalem"
          ],
          [
           "Philip the Apostle",
           "Nero",
           "Hieropolis"
          ],
          [
           "Matthew the Apostle",
           "Nero",
           "Ethiopia"
          ],
          [
           "Nero's Persecution",
           "Nero",
           "Rome"
          ],
          [
           "Mark the Apostle",
           "Nero",
           "Alexandria"
          ],
          [
           "Jude, Simon, Thomas (apostles)",
           "Vespasian",
           "Jerusalem/Edessa/India"
          ],
          [
           "Domitian's Persecution",
           "Domitian",
           "Roman Empire"
          ],
          [
           "John (exile)",
           "Domitian",
           "Patmos/Ephesus"
          ]
         ],
         "hovertemplate": "<b>%{customdata[0]}</b><br>Year: %{x} AD<br>Deaths: %{y}<br>Emperor: %{customdata[1]}<br>Location: %{customdata[2]}<extra></extra>",
         "marker": {
          "color": "#0ea5e9"
         },
         "name": "1st Century",
         "type": "bar",
         "x": {
          "bdata": "Iis2PEBESFFf",
          "dtype": "i1"
         },
         "y": {
          "bdata": "AQEBAWQBA2QB",
          "dtype": "i1"
         }
        },
        {
         "customdata": [
          [
           "Ignatius of Antioch",
           "Trajan",
           "Rome"
          ],
          [
           "Polycarp",
           "Antoninus Pius",
           "Smyrna"
          ],
          [
           "Justin Martyr and companions",
           "Marcus Aurelius",
           "Rome"
          ],
          [
           "Lyon Persecution",
           "Marcus Aurelius",
           "Lyon (Gaul)"
          ]
         ],
         "hovertemplate": "<b>%{customdata[0]}</b><br>Year: %{x} AD<br>Deaths: %{y}<br>Emperor: %{customdata[1]}<br>Location: %{customdata[2]}<extra></extra>",
         "marker": {
          "color": "#06b6d4"
         },
         "name": "2nd Century",
         "type": "bar",
         "x": {
          "bdata": "awCbAKUAsQA=",
          "dtype": "i2"
         },
         "y": {
          "bdata": "AQEHMA==",
          "dtype": "i1"
         }
        },
        {
         "customdata": [
          [
           "Perpetua & Felicity",
           "Septimius Severus",
           "Carthage"
          ],
          [
           "Decius Persecution",
           "Decius",
           "Roman Empire"
          ],
          [
           "Sixtus II & Lawrence",
           "Valerian",
           "Rome/Carthage"
          ]
         ],
         "hovertemplate": "<b>%{customdata[0]}</b><br>Year: %{x} AD<br>Deaths: %{y}<br>Emperor: %{customdata[1]}<br>Location: %{customdata[2]}<extra></extra>",
         "marker": {
          "color": "#f97316"
         },
         "name": "3rd Century",
         "type": "bar",
         "x": {
          "bdata": "ywD6AAIB",
          "dtype": "i2"
         },
         "y": {
          "bdata": "BWQD",
          "dtype": "i1"
         }
        },
        {
         "customdata": [
          [
           "Diocletian Great Persecution",
           "Diocletian",
           "Roman Empire"
          ],
          [
           "Edict of Milan (end of persecution)",
           "Constantine",
           "Roman Empire"
          ],
          [
           "Shapur II's Persecution",
           "Constantine II",
           "Persian Empire"
          ]
         ],
         "hovertemplate": "<b>%{customdata[0]}</b><br>Year: %{x} AD<br>Deaths: %{y}<br>Emperor: %{customdata[1]}<br>Location: %{customdata[2]}<extra></extra>",
         "marker": {
          "color": "#ef4444"
         },
         "name": "4th Century",
         "type": "bar",
         "x": {
          "bdata": "LwE5AU8B",
          "dtype": "i2"
         },
         "y": {
          "bdata": "6AMAAGQA",
          "dtype": "i2"
         }
        },
        {
         "customdata": [
          [
           "Battle of Avarayr (Armenia)",
           "Theodosius II",
           "Armenia"
          ]
         ],
         "hovertemplate": "<b>%{customdata[0]}</b><br>Year: %{x} AD<br>Deaths: %{y}<br>Emperor: %{customdata[1]}<br>Location: %{customdata[2]}<extra></extra>",
         "marker": {
          "color": "#8b5cf6"
         },
         "name": "5th Century",
         "type": "bar",
         "x": {
          "bdata": "wwE=",
          "dtype": "i2"
         },
         "y": {
          "bdata": "ZA==",
          "dtype": "i1"
         }
        }
       ],
       "layout": {
        "barmode": "group",
        "height": 600,
        "hovermode": "x unified",
        "template": {
         "data": {
          "bar": [
           {
            "error_x": {
             "color": "#2a3f5f"
            },
            "error_y": {
             "color": "#2a3f5f"
            },
            "marker": {
             "line": {
              "color": "white",
              "width": 0.5
             },
             "pattern": {
              "fillmode": "overlay",
              "size": 10,
              "solidity": 0.2
             }
            },
            "type": "bar"
           }
          ],
          "barpolar": [
           {
            "marker": {
             "line": {
              "color": "white",
              "width": 0.5
             },
             "pattern": {
              "fillmode": "overlay",
              "size": 10,
              "solidity": 0.2
             }
            },
            "type": "barpolar"
           }
          ],
          "carpet": [
           {
            "aaxis": {
             "endlinecolor": "#2a3f5f",
             "gridcolor": "#C8D4E3",
             "linecolor": "#C8D4E3",
             "minorgridcolor": "#C8D4E3",
             "startlinecolor": "#2a3f5f"
            },
            "baxis": {
             "endlinecolor": "#2a3f5f",
             "gridcolor": "#C8D4E3",
             "linecolor": "#C8D4E3",
             "minorgridcolor": "#C8D4E3",
             "startlinecolor": "#2a3f5f"
            },
            "type": "carpet"
           }
          ],
          "choropleth": [
           {
            "colorbar": {
             "outlinewidth": 0,
             "ticks": ""
            },
            "type": "choropleth"
           }
          ],
          "contour": [
           {
            "colorbar": {
             "outlinewidth": 0,
             "ticks": ""
            },
            "colorscale": [
             [
              0,
              "#0d0887"
             ],
             [
              0.1111111111111111,
              "#46039f"
             ],
             [
              0.2222222222222222,
              "#7201a8"
             ],
             [
              0.3333333333333333,
              "#9c179e"
             ],
             [
              0.4444444444444444,
              "#bd3786"
             ],
             [
              0.5555555555555556,
              "#d8576b"
             ],
             [
              0.6666666666666666,
              "#ed7953"
             ],
             [
              0.7777777777777778,
              "#fb9f3a"
             ],
             [
              0.8888888888888888,
              "#fdca26"
             ],
             [
              1,
              "#f0f921"
             ]
            ],
            "type": "contour"
           }
          ],
          "contourcarpet": [
           {
            "colorbar": {
             "outlinewidth": 0,
             "ticks": ""
            },
            "type": "contourcarpet"
           }
          ],
          "heatmap": [
           {
            "colorbar": {
             "outlinewidth": 0,
             "ticks": ""
            },
            "colorscale": [
             [
              0,
              "#0d0887"
             ],
             [
              0.1111111111111111,
              "#46039f"
             ],
             [
              0.2222222222222222,
              "#7201a8"
             ],
             [
              0.3333333333333333,
              "#9c179e"
             ],
             [
              0.4444444444444444,
              "#bd3786"
             ],
             [
              0.5555555555555556,
              "#d8576b"
             ],
             [
              0.6666666666666666,
              "#ed7953"
             ],
             [
              0.7777777777777778,
              "#fb9f3a"
             ],
             [
              0.8888888888888888,
              "#fdca26"
             ],
             [
              1,
              "#f0f921"
             ]
            ],
            "type": "heatmap"
           }
          ],
          "histogram": [
           {
            "marker": {
             "pattern": {
              "fillmode": "overlay",
              "size": 10,
              "solidity": 0.2
             }
            },
            "type": "histogram"
           }
          ],
          "histogram2d": [
           {
            "colorbar": {
             "outlinewidth": 0,
             "ticks": ""
            },
            "colorscale": [
             [
              0,
              "#0d0887"
             ],
             [
              0.1111111111111111,
              "#46039f"
             ],
             [
              0.2222222222222222,
              "#7201a8"
             ],
             [
              0.3333333333333333,
              "#9c179e"
             ],
             [
              0.4444444444444444,
              "#bd3786"
             ],
             [
              0.5555555555555556,
              "#d8576b"
             ],
             [
              0.6666666666666666,
              "#ed7953"
             ],
             [
              0.7777777777777778,
              "#fb9f3a"
             ],
             [
              0.8888888888888888,
              "#fdca26"
             ],
             [
              1,
              "#f0f921"
             ]
            ],
            "type": "histogram2d"
           }
          ],
          "histogram2dcontour": [
           {
            "colorbar": {
             "outlinewidth": 0,
             "ticks": ""
            },
            "colorscale": [
             [
              0,
              "#0d0887"
             ],
             [
              0.1111111111111111,
              "#46039f"
             ],
             [
              0.2222222222222222,
              "#7201a8"
             ],
             [
              0.3333333333333333,
              "#9c179e"
             ],
             [
              0.4444444444444444,
              "#bd3786"
             ],
             [
              0.5555555555555556,
              "#d8576b"
             ],
             [
              0.6666666666666666,
              "#ed7953"
             ],
             [
              0.7777777777777778,
              "#fb9f3a"
             ],
             [
              0.8888888888888888,
              "#fdca26"
             ],
             [
              1,
              "#f0f921"
             ]
            ],
            "type": "histogram2dcontour"
           }
          ],
          "mesh3d": [
           {
            "colorbar": {
             "outlinewidth": 0,
             "ticks": ""
            },
            "type": "mesh3d"
           }
          ],
          "parcoords": [
           {
            "line": {
             "colorbar": {
              "outlinewidth": 0,
              "ticks": ""
             }
            },
            "type": "parcoords"
           }
          ],
          "pie": [
           {
            "automargin": true,
            "type": "pie"
           }
          ],
          "scatter": [
           {
            "fillpattern": {
             "fillmode": "overlay",
             "size": 10,
             "solidity": 0.2
            },
            "type": "scatter"
           }
          ],
          "scatter3d": [
           {
            "line": {
             "colorbar": {
              "outlinewidth": 0,
              "ticks": ""
             }
            },
            "marker": {
             "colorbar": {
              "outlinewidth": 0,
              "ticks": ""
             }
            },
            "type": "scatter3d"
           }
          ],
          "scattercarpet": [
           {
            "marker": {
             "colorbar": {
              "outlinewidth": 0,
              "ticks": ""
             }
            },
            "type": "scattercarpet"
           }
          ],
          "scattergeo": [
           {
            "marker": {
             "colorbar": {
              "outlinewidth": 0,
              "ticks": ""
             }
            },
            "type": "scattergeo"
           }
          ],
          "scattergl": [
           {
            "marker": {
             "colorbar": {
              "outlinewidth": 0,
              "ticks": ""
             }
            },
            "type": "scattergl"
           }
          ],
          "scattermap": [
           {
            "marker": {
             "colorbar": {
              "outlinewidth": 0,
              "ticks": ""
             }
            },
            "type": "scattermap"
           }
          ],
          "scattermapbox": [
           {
            "marker": {
             "colorbar": {
              "outlinewidth": 0,
              "ticks": ""
             }
            },
            "type": "scattermapbox"
           }
          ],
          "scatterpolar": [
           {
            "marker": {
             "colorbar": {
              "outlinewidth": 0,
              "ticks": ""
             }
            },
            "type": "scatterpolar"
           }
          ],
          "scatterpolargl": [
           {
            "marker": {
             "colorbar": {
              "outlinewidth": 0,
              "ticks": ""
             }
            },
            "type": "scatterpolargl"
           }
          ],
          "scatterternary": [
           {
            "marker": {
             "colorbar": {
              "outlinewidth": 0,
              "ticks": ""
             }
            },
            "type": "scatterternary"
           }
          ],
          "surface": [
           {
            "colorbar": {
             "outlinewidth": 0,
             "ticks": ""
            },
            "colorscale": [
             [
              0,
              "#0d0887"
             ],
             [
              0.1111111111111111,
              "#46039f"
             ],
             [
              0.2222222222222222,
              "#7201a8"
             ],
             [
              0.3333333333333333,
              "#9c179e"
             ],
             [
              0.4444444444444444,
              "#bd3786"
             ],
             [
              0.5555555555555556,
              "#d8576b"
             ],
             [
              0.6666666666666666,
              "#ed7953"
             ],
             [
              0.7777777777777778,
              "#fb9f3a"
             ],
             [
              0.8888888888888888,
              "#fdca26"
             ],
             [
              1,
              "#f0f921"
             ]
            ],
            "type": "surface"
           }
          ],
          "table": [
           {
            "cells": {
             "fill": {
              "color": "#EBF0F8"
             },
             "line": {
              "color": "white"
             }
            },
            "header": {
             "fill": {
              "color": "#C8D4E3"
             },
             "line": {
              "color": "white"
             }
            },
            "type": "table"
           }
          ]
         },
         "layout": {
          "annotationdefaults": {
           "arrowcolor": "#2a3f5f",
           "arrowhead": 0,
           "arrowwidth": 1
          },
          "autotypenumbers": "strict",
          "coloraxis": {
           "colorbar": {
            "outlinewidth": 0,
            "ticks": ""
           }
          },
          "colorscale": {
           "diverging": [
            [
             0,
             "#8e0152"
            ],
            [
             0.1,
             "#c51b7d"
            ],
            [
             0.2,
             "#de77ae"
            ],
            [
             0.3,
             "#f1b6da"
            ],
            [
             0.4,
             "#fde0ef"
            ],
            [
             0.5,
             "#f7f7f7"
            ],
            [
             0.6,
             "#e6f5d0"
            ],
            [
             0.7,
             "#b8e186"
            ],
            [
             0.8,
             "#7fbc41"
            ],
            [
             0.9,
             "#4d9221"
            ],
            [
             1,
             "#276419"
            ]
           ],
           "sequential": [
            [
             0,
             "#0d0887"
            ],
            [
             0.1111111111111111,
             "#46039f"
            ],
            [
             0.2222222222222222,
             "#7201a8"
            ],
            [
             0.3333333333333333,
             "#9c179e"
            ],
            [
             0.4444444444444444,
             "#bd3786"
            ],
            [
             0.5555555555555556,
             "#d8576b"
            ],
            [
             0.6666666666666666,
             "#ed7953"
            ],
            [
             0.7777777777777778,
             "#fb9f3a"
            ],
            [
             0.8888888888888888,
             "#fdca26"
            ],
            [
             1,
             "#f0f921"
            ]
           ],
           "sequentialminus": [
            [
             0,
             "#0d0887"
            ],
            [
             0.1111111111111111,
             "#46039f"
            ],
            [
             0.2222222222222222,
             "#7201a8"
            ],
            [
             0.3333333333333333,
             "#9c179e"
            ],
            [
             0.4444444444444444,
             "#bd3786"
            ],
            [
             0.5555555555555556,
             "#d8576b"
            ],
            [
             0.6666666666666666,
             "#ed7953"
            ],
            [
             0.7777777777777778,
             "#fb9f3a"
            ],
            [
             0.8888888888888888,
             "#fdca26"
            ],
            [
             1,
             "#f0f921"
            ]
           ]
          },
          "colorway": [
           "#636efa",
           "#EF553B",
           "#00cc96",
           "#ab63fa",
           "#FFA15A",
           "#19d3f3",
           "#FF6692",
           "#B6E880",
           "#FF97FF",
           "#FECB52"
          ],
          "font": {
           "color": "#2a3f5f"
          },
          "geo": {
           "bgcolor": "white",
           "lakecolor": "white",
           "landcolor": "white",
           "showlakes": true,
           "showland": true,
           "subunitcolor": "#C8D4E3"
          },
          "hoverlabel": {
           "align": "left"
          },
          "hovermode": "closest",
          "mapbox": {
           "style": "light"
          },
          "paper_bgcolor": "white",
          "plot_bgcolor": "white",
          "polar": {
           "angularaxis": {
            "gridcolor": "#EBF0F8",
            "linecolor": "#EBF0F8",
            "ticks": ""
           },
           "bgcolor": "white",
           "radialaxis": {
            "gridcolor": "#EBF0F8",
            "linecolor": "#EBF0F8",
            "ticks": ""
           }
          },
          "scene": {
           "xaxis": {
            "backgroundcolor": "white",
            "gridcolor": "#DFE8F3",
            "gridwidth": 2,
            "linecolor": "#EBF0F8",
            "showbackground": true,
            "ticks": "",
            "zerolinecolor": "#EBF0F8"
           },
           "yaxis": {
            "backgroundcolor": "white",
            "gridcolor": "#DFE8F3",
            "gridwidth": 2,
            "linecolor": "#EBF0F8",
            "showbackground": true,
            "ticks": "",
            "zerolinecolor": "#EBF0F8"
           },
           "zaxis": {
            "backgroundcolor": "white",
            "gridcolor": "#DFE8F3",
            "gridwidth": 2,
            "linecolor": "#EBF0F8",
            "showbackground": true,
            "ticks": "",
            "zerolinecolor": "#EBF0F8"
           }
          },
          "shapedefaults": {
           "line": {
            "color": "#2a3f5f"
           }
          },
          "ternary": {
           "aaxis": {
            "gridcolor": "#DFE8F3",
            "linecolor": "#A2B1C6",
            "ticks": ""
           },
           "baxis": {
            "gridcolor": "#DFE8F3",
            "linecolor": "#A2B1C6",
            "ticks": ""
           },
           "bgcolor": "white",
           "caxis": {
            "gridcolor": "#DFE8F3",
            "linecolor": "#A2B1C6",
            "ticks": ""
           }
          },
          "title": {
           "x": 0.05
          },
          "xaxis": {
           "automargin": true,
           "gridcolor": "#EBF0F8",
           "linecolor": "#EBF0F8",
           "ticks": "",
           "title": {
            "standoff": 15
           },
           "zerolinecolor": "#EBF0F8",
           "zerolinewidth": 2
          },
          "yaxis": {
           "automargin": true,
           "gridcolor": "#EBF0F8",
           "linecolor": "#EBF0F8",
           "ticks": "",
           "title": {
            "standoff": 15
           },
           "zerolinecolor": "#EBF0F8",
           "zerolinewidth": 2
          }
         }
        },
        "title": {
         "text": "Early Church Martyrdoms (1st-5th Centuries)"
        },
        "xaxis": {
         "title": {
          "text": "Year (AD)"
         }
        },
        "yaxis": {
         "title": {
          "text": "Estimated Number of Deaths"
         }
        }
       }
      }
     },
     "metadata": {},
     "output_type": "display_data"
    },
    {
     "name": "stdout",
     "output_type": "stream",
     "text": [
      "Chart saved as '01_martyrdoms_timeline.html'\n"
     ]
    }
   ],
   "source": [
    "# Create interactive Plotly bar chart\n",
    "fig = go.Figure()\n",
    "\n",
    "# Color code by century\n",
    "colors = {\n",
    "    '1st Century': '#0ea5e9',\n",
    "    '2nd Century': '#06b6d4',\n",
    "    '3rd Century': '#f97316',\n",
    "    '4th Century': '#ef4444',\n",
    "    '5th Century': '#8b5cf6'\n",
    "}\n",
    "\n",
    "for period in sorted(df['Period'].unique()):\n",
    "    period_data = df[df['Period'] == period]\n",
    "    fig.add_trace(go.Bar(\n",
    "        x=period_data['Year'],\n",
    "        y=period_data['Deaths'],\n",
    "        name=str(period),\n",
    "        marker_color=colors[str(period)],\n",
    "        hovertemplate='<b>%{customdata[0]}</b><br>' +\n",
    "                      'Year: %{x} AD<br>' +\n",
    "                      'Deaths: %{y}<br>' +\n",
    "                      'Emperor: %{customdata[1]}<br>' +\n",
    "                      'Location: %{customdata[2]}<extra></extra>',\n",
    "        customdata=period_data[['Event', 'Emperor', 'Location']].values\n",
    "    ))\n",
    "\n",
    "fig.update_layout(\n",
    "    title='Early Church Martyrdoms (1st-5th Centuries)',\n",
    "    xaxis_title='Year (AD)',\n",
    "    yaxis_title='Estimated Number of Deaths',\n",
    "    hovermode='x unified',\n",
    "    template='plotly_white',\n",
    "    height=600,\n",
    "    barmode='group'\n",
    ")\n",
    "\n",
    "fig.show()\n",
    "fig.write_html('01_martyrdoms_timeline.html')\n",
    "print(\"Chart saved as '01_martyrdoms_timeline.html'\")"
   ]
  },
  {
   "cell_type": "markdown",
   "metadata": {},
   "source": [
    "## Geographic Distribution: Interactive Map"
   ]
  },
  {
   "cell_type": "code",
   "execution_count": null,
   "metadata": {},
   "outputs": [
    {
     "name": "stdout",
     "output_type": "stream",
     "text": [
      "Martyrdoms by Location:\n",
      "                  Location  Deaths\n",
      "10            Roman Empire    1200\n",
      "11                    Rome     108\n",
      "1                  Armenia     100\n",
      "9           Persian Empire     100\n",
      "7              Lyon (Gaul)      48\n",
      "2                 Carthage       5\n",
      "6   Jerusalem/Edessa/India       3\n",
      "12           Rome/Carthage       3\n",
      "5                Jerusalem       2\n",
      "0               Alexandria       1\n",
      "3                 Ethiopia       1\n",
      "4               Hieropolis       1\n",
      "8           Patmos/Ephesus       1\n",
      "13                  Smyrna       1\n"
     ]
    },
    {
     "data": {
      "application/vnd.plotly.v1+json": {
       "config": {
        "plotlyServerURL": "https://plot.ly"
       },
       "data": [
        {
         "hovertemplate": "%{text}<extra></extra>",
         "lat": {
          "bdata": "MzMzMzMzP0AAAAAAAABEQKrx0k1iYEJACtejcD1KIkCPwvUoXN9CQLpJDAIrxz9AukkMAivHP0BvEoPAyuFGQAAAAAAAwEJAAAAAAABAQEAAAAAAAMBCQPp+arx080RA+n5qvHTzREBSuB6F61FDQA==",
          "dtype": "f8"
         },
         "lon": {
          "bdata": "ZmZmZmbmPUAAAAAAAIBGQEa28/3UeAhAAAAAAABAREAj2/l+arw5QMuhRbbznUFAy6FFtvOdQUDXo3A9ClcTQAAAAAAAADtAmpmZmZnZSkAAAAAAAAAuQMuhRbbz/ShAy6FFtvP9KEA9CtejcD06QA==",
          "dtype": "f8"
         },
         "marker": {
          "color": {
           "bdata": "AQBkAAUAAQABAAIAAwAwAAEAZACwBGwAAwABAA==",
           "dtype": "i2"
          },
          "colorbar": {
           "title": {
            "text": "Deaths"
           }
          },
          "colorscale": [
           [
            0,
            "rgb(255,245,240)"
           ],
           [
            0.125,
            "rgb(254,224,210)"
           ],
           [
            0.25,
            "rgb(252,187,161)"
           ],
           [
            0.375,
            "rgb(252,146,114)"
           ],
           [
            0.5,
            "rgb(251,106,74)"
           ],
           [
            0.625,
            "rgb(239,59,44)"
           ],
           [
            0.75,
            "rgb(203,24,29)"
           ],
           [
            0.875,
            "rgb(165,15,21)"
           ],
           [
            1,
            "rgb(103,0,13)"
           ]
          ],
          "line": {
           "color": "white",
           "width": 1
          },
          "opacity": 0.8,
          "showscale": true,
          "size": {
           "bdata": "ZmZmZmZmFEAAAAAAAAAuQAAAAAAAABZAZmZmZmZmFEBmZmZmZmYUQM3MzMzMzBRAMzMzMzMzFUCamZmZmZkjQGZmZmZmZhRAAAAAAAAALkAAAAAAAEBfQJqZmZmZmS9AMzMzMzMzFUBmZmZmZmYUQA==",
           "dtype": "f8"
          }
         },
         "mode": "markers",
         "text": [
          "<b>Alexandria</b><br>Deaths: 1<br><br>Mark the Apostle",
          "<b>Armenia</b><br>Deaths: 100<br><br>Battle of Avarayr (Armenia)",
          "<b>Carthage</b><br>Deaths: 5<br><br>Perpetua & Felicity",
          "<b>Ethiopia</b><br>Deaths: 1<br><br>Matthew the Apostle",
          "<b>Hieropolis</b><br>Deaths: 1<br><br>Philip the Apostle",
          "<b>Jerusalem</b><br>Deaths: 2<br><br>Stephen<br>James the Greater",
          "<b>Jerusalem/Edessa/India</b><br>Deaths: 3<br><br>Jude, Simon, Thomas (apostles)",
          "<b>Lyon (Gaul)</b><br>Deaths: 48<br><br>Lyon Persecution",
          "<b>Patmos/Ephesus</b><br>Deaths: 1<br><br>John (exile)",
          "<b>Persian Empire</b><br>Deaths: 100<br><br>Shapur II's Persecution",
          "<b>Roman Empire</b><br>Deaths: 1200<br><br>Domitian's Persecution<br>Decius Persecution<br>Diocletian Great Persecution<br>Edict of Milan (end of persecution)",
          "<b>Rome</b><br>Deaths: 108<br><br>Nero's Persecution<br>Ignatius of Antioch<br>Justin Martyr and companions",
          "<b>Rome/Carthage</b><br>Deaths: 3<br><br>Sixtus II & Lawrence",
          "<b>Smyrna</b><br>Deaths: 1<br><br>Polycarp"
         ],
         "type": "scattergeo"
        }
       ],
       "layout": {
        "geo": {
         "center": {
          "lat": 30,
          "lon": 25
         },
         "countrycolor": "rgb(204, 204, 204)",
         "landcolor": "rgb(243, 243, 243)",
         "projection": {
          "type": "natural earth"
         },
         "showcountries": true,
         "showland": true
        },
        "height": 700,
        "template": {
         "data": {
          "bar": [
           {
            "error_x": {
             "color": "#2a3f5f"
            },
            "error_y": {
             "color": "#2a3f5f"
            },
            "marker": {
             "line": {
              "color": "#E5ECF6",
              "width": 0.5
             },
             "pattern": {
              "fillmode": "overlay",
              "size": 10,
              "solidity": 0.2
             }
            },
            "type": "bar"
           }
          ],
          "barpolar": [
           {
            "marker": {
             "line": {
              "color": "#E5ECF6",
              "width": 0.5
             },
             "pattern": {
              "fillmode": "overlay",
              "size": 10,
              "solidity": 0.2
             }
            },
            "type": "barpolar"
           }
          ],
          "carpet": [
           {
            "aaxis": {
             "endlinecolor": "#2a3f5f",
             "gridcolor": "white",
             "linecolor": "white",
             "minorgridcolor": "white",
             "startlinecolor": "#2a3f5f"
            },
            "baxis": {
             "endlinecolor": "#2a3f5f",
             "gridcolor": "white",
             "linecolor": "white",
             "minorgridcolor": "white",
             "startlinecolor": "#2a3f5f"
            },
            "type": "carpet"
           }
          ],
          "choropleth": [
           {
            "colorbar": {
             "outlinewidth": 0,
             "ticks": ""
            },
            "type": "choropleth"
           }
          ],
          "contour": [
           {
            "colorbar": {
             "outlinewidth": 0,
             "ticks": ""
            },
            "colorscale": [
             [
              0,
              "#0d0887"
             ],
             [
              0.1111111111111111,
              "#46039f"
             ],
             [
              0.2222222222222222,
              "#7201a8"
             ],
             [
              0.3333333333333333,
              "#9c179e"
             ],
             [
              0.4444444444444444,
              "#bd3786"
             ],
             [
              0.5555555555555556,
              "#d8576b"
             ],
             [
              0.6666666666666666,
              "#ed7953"
             ],
             [
              0.7777777777777778,
              "#fb9f3a"
             ],
             [
              0.8888888888888888,
              "#fdca26"
             ],
             [
              1,
              "#f0f921"
             ]
            ],
            "type": "contour"
           }
          ],
          "contourcarpet": [
           {
            "colorbar": {
             "outlinewidth": 0,
             "ticks": ""
            },
            "type": "contourcarpet"
           }
          ],
          "heatmap": [
           {
            "colorbar": {
             "outlinewidth": 0,
             "ticks": ""
            },
            "colorscale": [
             [
              0,
              "#0d0887"
             ],
             [
              0.1111111111111111,
              "#46039f"
             ],
             [
              0.2222222222222222,
              "#7201a8"
             ],
             [
              0.3333333333333333,
              "#9c179e"
             ],
             [
              0.4444444444444444,
              "#bd3786"
             ],
             [
              0.5555555555555556,
              "#d8576b"
             ],
             [
              0.6666666666666666,
              "#ed7953"
             ],
             [
              0.7777777777777778,
              "#fb9f3a"
             ],
             [
              0.8888888888888888,
              "#fdca26"
             ],
             [
              1,
              "#f0f921"
             ]
            ],
            "type": "heatmap"
           }
          ],
          "histogram": [
           {
            "marker": {
             "pattern": {
              "fillmode": "overlay",
              "size": 10,
              "solidity": 0.2
             }
            },
            "type": "histogram"
           }
          ],
          "histogram2d": [
           {
            "colorbar": {
             "outlinewidth": 0,
             "ticks": ""
            },
            "colorscale": [
             [
              0,
              "#0d0887"
             ],
             [
              0.1111111111111111,
              "#46039f"
             ],
             [
              0.2222222222222222,
              "#7201a8"
             ],
             [
              0.3333333333333333,
              "#9c179e"
             ],
             [
              0.4444444444444444,
              "#bd3786"
             ],
             [
              0.5555555555555556,
              "#d8576b"
             ],
             [
              0.6666666666666666,
              "#ed7953"
             ],
             [
              0.7777777777777778,
              "#fb9f3a"
             ],
             [
              0.8888888888888888,
              "#fdca26"
             ],
             [
              1,
              "#f0f921"
             ]
            ],
            "type": "histogram2d"
           }
          ],
          "histogram2dcontour": [
           {
            "colorbar": {
             "outlinewidth": 0,
             "ticks": ""
            },
            "colorscale": [
             [
              0,
              "#0d0887"
             ],
             [
              0.1111111111111111,
              "#46039f"
             ],
             [
              0.2222222222222222,
              "#7201a8"
             ],
             [
              0.3333333333333333,
              "#9c179e"
             ],
             [
              0.4444444444444444,
              "#bd3786"
             ],
             [
              0.5555555555555556,
              "#d8576b"
             ],
             [
              0.6666666666666666,
              "#ed7953"
             ],
             [
              0.7777777777777778,
              "#fb9f3a"
             ],
             [
              0.8888888888888888,
              "#fdca26"
             ],
             [
              1,
              "#f0f921"
             ]
            ],
            "type": "histogram2dcontour"
           }
          ],
          "mesh3d": [
           {
            "colorbar": {
             "outlinewidth": 0,
             "ticks": ""
            },
            "type": "mesh3d"
           }
          ],
          "parcoords": [
           {
            "line": {
             "colorbar": {
              "outlinewidth": 0,
              "ticks": ""
             }
            },
            "type": "parcoords"
           }
          ],
          "pie": [
           {
            "automargin": true,
            "type": "pie"
           }
          ],
          "scatter": [
           {
            "fillpattern": {
             "fillmode": "overlay",
             "size": 10,
             "solidity": 0.2
            },
            "type": "scatter"
           }
          ],
          "scatter3d": [
           {
            "line": {
             "colorbar": {
              "outlinewidth": 0,
              "ticks": ""
             }
            },
            "marker": {
             "colorbar": {
              "outlinewidth": 0,
              "ticks": ""
             }
            },
            "type": "scatter3d"
           }
          ],
          "scattercarpet": [
           {
            "marker": {
             "colorbar": {
              "outlinewidth": 0,
              "ticks": ""
             }
            },
            "type": "scattercarpet"
           }
          ],
          "scattergeo": [
           {
            "marker": {
             "colorbar": {
              "outlinewidth": 0,
              "ticks": ""
             }
            },
            "type": "scattergeo"
           }
          ],
          "scattergl": [
           {
            "marker": {
             "colorbar": {
              "outlinewidth": 0,
              "ticks": ""
             }
            },
            "type": "scattergl"
           }
          ],
          "scattermap": [
           {
            "marker": {
             "colorbar": {
              "outlinewidth": 0,
              "ticks": ""
             }
            },
            "type": "scattermap"
           }
          ],
          "scattermapbox": [
           {
            "marker": {
             "colorbar": {
              "outlinewidth": 0,
              "ticks": ""
             }
            },
            "type": "scattermapbox"
           }
          ],
          "scatterpolar": [
           {
            "marker": {
             "colorbar": {
              "outlinewidth": 0,
              "ticks": ""
             }
            },
            "type": "scatterpolar"
           }
          ],
          "scatterpolargl": [
           {
            "marker": {
             "colorbar": {
              "outlinewidth": 0,
              "ticks": ""
             }
            },
            "type": "scatterpolargl"
           }
          ],
          "scatterternary": [
           {
            "marker": {
             "colorbar": {
              "outlinewidth": 0,
              "ticks": ""
             }
            },
            "type": "scatterternary"
           }
          ],
          "surface": [
           {
            "colorbar": {
             "outlinewidth": 0,
             "ticks": ""
            },
            "colorscale": [
             [
              0,
              "#0d0887"
             ],
             [
              0.1111111111111111,
              "#46039f"
             ],
             [
              0.2222222222222222,
              "#7201a8"
             ],
             [
              0.3333333333333333,
              "#9c179e"
             ],
             [
              0.4444444444444444,
              "#bd3786"
             ],
             [
              0.5555555555555556,
              "#d8576b"
             ],
             [
              0.6666666666666666,
              "#ed7953"
             ],
             [
              0.7777777777777778,
              "#fb9f3a"
             ],
             [
              0.8888888888888888,
              "#fdca26"
             ],
             [
              1,
              "#f0f921"
             ]
            ],
            "type": "surface"
           }
          ],
          "table": [
           {
            "cells": {
             "fill": {
              "color": "#EBF0F8"
             },
             "line": {
              "color": "white"
             }
            },
            "header": {
             "fill": {
              "color": "#C8D4E3"
             },
             "line": {
              "color": "white"
             }
            },
            "type": "table"
           }
          ]
         },
         "layout": {
          "annotationdefaults": {
           "arrowcolor": "#2a3f5f",
           "arrowhead": 0,
           "arrowwidth": 1
          },
          "autotypenumbers": "strict",
          "coloraxis": {
           "colorbar": {
            "outlinewidth": 0,
            "ticks": ""
           }
          },
          "colorscale": {
           "diverging": [
            [
             0,
             "#8e0152"
            ],
            [
             0.1,
             "#c51b7d"
            ],
            [
             0.2,
             "#de77ae"
            ],
            [
             0.3,
             "#f1b6da"
            ],
            [
             0.4,
             "#fde0ef"
            ],
            [
             0.5,
             "#f7f7f7"
            ],
            [
             0.6,
             "#e6f5d0"
            ],
            [
             0.7,
             "#b8e186"
            ],
            [
             0.8,
             "#7fbc41"
            ],
            [
             0.9,
             "#4d9221"
            ],
            [
             1,
             "#276419"
            ]
           ],
           "sequential": [
            [
             0,
             "#0d0887"
            ],
            [
             0.1111111111111111,
             "#46039f"
            ],
            [
             0.2222222222222222,
             "#7201a8"
            ],
            [
             0.3333333333333333,
             "#9c179e"
            ],
            [
             0.4444444444444444,
             "#bd3786"
            ],
            [
             0.5555555555555556,
             "#d8576b"
            ],
            [
             0.6666666666666666,
             "#ed7953"
            ],
            [
             0.7777777777777778,
             "#fb9f3a"
            ],
            [
             0.8888888888888888,
             "#fdca26"
            ],
            [
             1,
             "#f0f921"
            ]
           ],
           "sequentialminus": [
            [
             0,
             "#0d0887"
            ],
            [
             0.1111111111111111,
             "#46039f"
            ],
            [
             0.2222222222222222,
             "#7201a8"
            ],
            [
             0.3333333333333333,
             "#9c179e"
            ],
            [
             0.4444444444444444,
             "#bd3786"
            ],
            [
             0.5555555555555556,
             "#d8576b"
            ],
            [
             0.6666666666666666,
             "#ed7953"
            ],
            [
             0.7777777777777778,
             "#fb9f3a"
            ],
            [
             0.8888888888888888,
             "#fdca26"
            ],
            [
             1,
             "#f0f921"
            ]
           ]
          },
          "colorway": [
           "#636efa",
           "#EF553B",
           "#00cc96",
           "#ab63fa",
           "#FFA15A",
           "#19d3f3",
           "#FF6692",
           "#B6E880",
           "#FF97FF",
           "#FECB52"
          ],
          "font": {
           "color": "#2a3f5f"
          },
          "geo": {
           "bgcolor": "white",
           "lakecolor": "white",
           "landcolor": "#E5ECF6",
           "showlakes": true,
           "showland": true,
           "subunitcolor": "white"
          },
          "hoverlabel": {
           "align": "left"
          },
          "hovermode": "closest",
          "mapbox": {
           "style": "light"
          },
          "paper_bgcolor": "white",
          "plot_bgcolor": "#E5ECF6",
          "polar": {
           "angularaxis": {
            "gridcolor": "white",
            "linecolor": "white",
            "ticks": ""
           },
           "bgcolor": "#E5ECF6",
           "radialaxis": {
            "gridcolor": "white",
            "linecolor": "white",
            "ticks": ""
           }
          },
          "scene": {
           "xaxis": {
            "backgroundcolor": "#E5ECF6",
            "gridcolor": "white",
            "gridwidth": 2,
            "linecolor": "white",
            "showbackground": true,
            "ticks": "",
            "zerolinecolor": "white"
           },
           "yaxis": {
            "backgroundcolor": "#E5ECF6",
            "gridcolor": "white",
            "gridwidth": 2,
            "linecolor": "white",
            "showbackground": true,
            "ticks": "",
            "zerolinecolor": "white"
           },
           "zaxis": {
            "backgroundcolor": "#E5ECF6",
            "gridcolor": "white",
            "gridwidth": 2,
            "linecolor": "white",
            "showbackground": true,
            "ticks": "",
            "zerolinecolor": "white"
           }
          },
          "shapedefaults": {
           "line": {
            "color": "#2a3f5f"
           }
          },
          "ternary": {
           "aaxis": {
            "gridcolor": "white",
            "linecolor": "white",
            "ticks": ""
           },
           "baxis": {
            "gridcolor": "white",
            "linecolor": "white",
            "ticks": ""
           },
           "bgcolor": "#E5ECF6",
           "caxis": {
            "gridcolor": "white",
            "linecolor": "white",
            "ticks": ""
           }
          },
          "title": {
           "x": 0.05
          },
          "xaxis": {
           "automargin": true,
           "gridcolor": "white",
           "linecolor": "white",
           "ticks": "",
           "title": {
            "standoff": 15
           },
           "zerolinecolor": "white",
           "zerolinewidth": 2
          },
          "yaxis": {
           "automargin": true,
           "gridcolor": "white",
           "linecolor": "white",
           "ticks": "",
           "title": {
            "standoff": 15
           },
           "zerolinecolor": "white",
           "zerolinewidth": 2
          }
         }
        },
        "title": {
         "text": "Geographic Distribution of Early Church Martyrdoms"
        }
       }
      }
     },
     "metadata": {},
     "output_type": "display_data"
    },
    {
     "name": "stdout",
     "output_type": "stream",
     "text": [
      "Map saved as '02_martyrdoms_map.html'\n"
     ]
    }
   ],
   "source": [
    "# Aggregate martyrdoms by location\n",
    "location_summary = df.groupby(['Location', 'Latitude', 'Longitude']).agg({\n",
    "    'Deaths': 'sum',\n",
    "    'Event': lambda x: '<br>'.join(x)\n",
    "}).reset_index().rename(columns={'Event': 'Events'})\n",
    "\n",
    "print(\"Martyrdoms by Location:\")\n",
    "print(location_summary[['Location', 'Deaths']].sort_values('Deaths', ascending=False))\n",
    "\n",
    "# Create scatter map with heatmap coloring\n",
    "fig_map = go.Figure(data=go.Scattergeo(\n",
    "    lon=location_summary['Longitude'],\n",
    "    lat=location_summary['Latitude'],\n",
    "    mode='markers',\n",
    "    marker=dict(\n",
    "        size=location_summary['Deaths'] / 10 + 5,\n",
    "        color=location_summary['Deaths'],\n",
    "        colorscale='Reds',\n",
    "        showscale=True,\n",
    "        colorbar=dict(title='Deaths'),\n",
    "        line=dict(width=1, color='white'),\n",
    "        opacity=0.8\n",
    "    ),\n",
    "    text=location_summary.apply(\n",
    "        lambda x: f\"<b>{x['Location']}</b><br>Deaths: {x['Deaths']}<br><br>\" + \n",
    "                  x['Events'].replace('<br>', '<br>'),\n",
    "        axis=1\n",
    "    ),\n",
    "    hovertemplate='%{text}<extra></extra>'\n",
    "))\n",
    "\n",
    "fig_map.update_layout(\n",
    "    title='Geographic Distribution of Early Church Martyrdoms',\n",
    "    geo=dict(\n",
    "        projection_type='natural earth',\n",
    "        showland=True,\n",
    "        landcolor='rgb(243, 243, 243)',\n",
    "        showcountries=True,\n",
    "        countrycolor='rgb(204, 204, 204)',\n",
    "        center=dict(lon=25, lat=30)\n",
    "    ),\n",
    "    height=700\n",
    ")\n",
    "\n",
    "fig_map.show()\n",
    "fig_map.write_html('02_martyrdoms_map.html')\n",
    "print(\"Map saved as '02_martyrdoms_map.html'\")"
   ]
  },
  {
   "cell_type": "markdown",
   "metadata": {},
   "source": [
    "## Density Heatmap"
   ]
  },
  {
   "cell_type": "markdown",
   "metadata": {},
   "source": [
    "## Regional Analysis"
   ]
  },
  {
   "cell_type": "code",
   "execution_count": null,
   "metadata": {},
   "outputs": [
    {
     "name": "stdout",
     "output_type": "stream",
     "text": [
      "\n",
      "Martydoms by Region:\n",
      "                        Deaths\n",
      "Region                        \n",
      "Roman Empire (General)    1200\n",
      "Persia & Armenia           200\n",
      "Western Roman Empire       164\n",
      "Eastern Mediterranean        9\n",
      "Africa & Asia                1\n"
     ]
    },
    {
     "data": {
      "application/vnd.plotly.v1+json": {
       "config": {
        "plotlyServerURL": "https://plot.ly"
       },
       "data": [
        {
         "domain": {
          "x": [
           0,
           1
          ],
          "y": [
           0,
           1
          ]
         },
         "hovertemplate": "Region=%{label}<br>Deaths=%{value}<extra></extra>",
         "labels": [
          "Roman Empire (General)",
          "Persia & Armenia",
          "Western Roman Empire",
          "Eastern Mediterranean",
          "Africa & Asia"
         ],
         "legendgroup": "",
         "name": "",
         "showlegend": true,
         "type": "pie",
         "values": {
          "bdata": "sATIAKQACQABAA==",
          "dtype": "i2"
         }
        }
       ],
       "layout": {
        "height": 600,
        "legend": {
         "tracegroupgap": 0
        },
        "piecolorway": [
         "rgb(255,245,240)",
         "rgb(254,224,210)",
         "rgb(252,187,161)",
         "rgb(252,146,114)",
         "rgb(251,106,74)",
         "rgb(239,59,44)",
         "rgb(203,24,29)",
         "rgb(165,15,21)",
         "rgb(103,0,13)"
        ],
        "template": {
         "data": {
          "bar": [
           {
            "error_x": {
             "color": "#2a3f5f"
            },
            "error_y": {
             "color": "#2a3f5f"
            },
            "marker": {
             "line": {
              "color": "#E5ECF6",
              "width": 0.5
             },
             "pattern": {
              "fillmode": "overlay",
              "size": 10,
              "solidity": 0.2
             }
            },
            "type": "bar"
           }
          ],
          "barpolar": [
           {
            "marker": {
             "line": {
              "color": "#E5ECF6",
              "width": 0.5
             },
             "pattern": {
              "fillmode": "overlay",
              "size": 10,
              "solidity": 0.2
             }
            },
            "type": "barpolar"
           }
          ],
          "carpet": [
           {
            "aaxis": {
             "endlinecolor": "#2a3f5f",
             "gridcolor": "white",
             "linecolor": "white",
             "minorgridcolor": "white",
             "startlinecolor": "#2a3f5f"
            },
            "baxis": {
             "endlinecolor": "#2a3f5f",
             "gridcolor": "white",
             "linecolor": "white",
             "minorgridcolor": "white",
             "startlinecolor": "#2a3f5f"
            },
            "type": "carpet"
           }
          ],
          "choropleth": [
           {
            "colorbar": {
             "outlinewidth": 0,
             "ticks": ""
            },
            "type": "choropleth"
           }
          ],
          "contour": [
           {
            "colorbar": {
             "outlinewidth": 0,
             "ticks": ""
            },
            "colorscale": [
             [
              0,
              "#0d0887"
             ],
             [
              0.1111111111111111,
              "#46039f"
             ],
             [
              0.2222222222222222,
              "#7201a8"
             ],
             [
              0.3333333333333333,
              "#9c179e"
             ],
             [
              0.4444444444444444,
              "#bd3786"
             ],
             [
              0.5555555555555556,
              "#d8576b"
             ],
             [
              0.6666666666666666,
              "#ed7953"
             ],
             [
              0.7777777777777778,
              "#fb9f3a"
             ],
             [
              0.8888888888888888,
              "#fdca26"
             ],
             [
              1,
              "#f0f921"
             ]
            ],
            "type": "contour"
           }
          ],
          "contourcarpet": [
           {
            "colorbar": {
             "outlinewidth": 0,
             "ticks": ""
            },
            "type": "contourcarpet"
           }
          ],
          "heatmap": [
           {
            "colorbar": {
             "outlinewidth": 0,
             "ticks": ""
            },
            "colorscale": [
             [
              0,
              "#0d0887"
             ],
             [
              0.1111111111111111,
              "#46039f"
             ],
             [
              0.2222222222222222,
              "#7201a8"
             ],
             [
              0.3333333333333333,
              "#9c179e"
             ],
             [
              0.4444444444444444,
              "#bd3786"
             ],
             [
              0.5555555555555556,
              "#d8576b"
             ],
             [
              0.6666666666666666,
              "#ed7953"
             ],
             [
              0.7777777777777778,
              "#fb9f3a"
             ],
             [
              0.8888888888888888,
              "#fdca26"
             ],
             [
              1,
              "#f0f921"
             ]
            ],
            "type": "heatmap"
           }
          ],
          "histogram": [
           {
            "marker": {
             "pattern": {
              "fillmode": "overlay",
              "size": 10,
              "solidity": 0.2
             }
            },
            "type": "histogram"
           }
          ],
          "histogram2d": [
           {
            "colorbar": {
             "outlinewidth": 0,
             "ticks": ""
            },
            "colorscale": [
             [
              0,
              "#0d0887"
             ],
             [
              0.1111111111111111,
              "#46039f"
             ],
             [
              0.2222222222222222,
              "#7201a8"
             ],
             [
              0.3333333333333333,
              "#9c179e"
             ],
             [
              0.4444444444444444,
              "#bd3786"
             ],
             [
              0.5555555555555556,
              "#d8576b"
             ],
             [
              0.6666666666666666,
              "#ed7953"
             ],
             [
              0.7777777777777778,
              "#fb9f3a"
             ],
             [
              0.8888888888888888,
              "#fdca26"
             ],
             [
              1,
              "#f0f921"
             ]
            ],
            "type": "histogram2d"
           }
          ],
          "histogram2dcontour": [
           {
            "colorbar": {
             "outlinewidth": 0,
             "ticks": ""
            },
            "colorscale": [
             [
              0,
              "#0d0887"
             ],
             [
              0.1111111111111111,
              "#46039f"
             ],
             [
              0.2222222222222222,
              "#7201a8"
             ],
             [
              0.3333333333333333,
              "#9c179e"
             ],
             [
              0.4444444444444444,
              "#bd3786"
             ],
             [
              0.5555555555555556,
              "#d8576b"
             ],
             [
              0.6666666666666666,
              "#ed7953"
             ],
             [
              0.7777777777777778,
              "#fb9f3a"
             ],
             [
              0.8888888888888888,
              "#fdca26"
             ],
             [
              1,
              "#f0f921"
             ]
            ],
            "type": "histogram2dcontour"
           }
          ],
          "mesh3d": [
           {
            "colorbar": {
             "outlinewidth": 0,
             "ticks": ""
            },
            "type": "mesh3d"
           }
          ],
          "parcoords": [
           {
            "line": {
             "colorbar": {
              "outlinewidth": 0,
              "ticks": ""
             }
            },
            "type": "parcoords"
           }
          ],
          "pie": [
           {
            "automargin": true,
            "type": "pie"
           }
          ],
          "scatter": [
           {
            "fillpattern": {
             "fillmode": "overlay",
             "size": 10,
             "solidity": 0.2
            },
            "type": "scatter"
           }
          ],
          "scatter3d": [
           {
            "line": {
             "colorbar": {
              "outlinewidth": 0,
              "ticks": ""
             }
            },
            "marker": {
             "colorbar": {
              "outlinewidth": 0,
              "ticks": ""
             }
            },
            "type": "scatter3d"
           }
          ],
          "scattercarpet": [
           {
            "marker": {
             "colorbar": {
              "outlinewidth": 0,
              "ticks": ""
             }
            },
            "type": "scattercarpet"
           }
          ],
          "scattergeo": [
           {
            "marker": {
             "colorbar": {
              "outlinewidth": 0,
              "ticks": ""
             }
            },
            "type": "scattergeo"
           }
          ],
          "scattergl": [
           {
            "marker": {
             "colorbar": {
              "outlinewidth": 0,
              "ticks": ""
             }
            },
            "type": "scattergl"
           }
          ],
          "scattermap": [
           {
            "marker": {
             "colorbar": {
              "outlinewidth": 0,
              "ticks": ""
             }
            },
            "type": "scattermap"
           }
          ],
          "scattermapbox": [
           {
            "marker": {
             "colorbar": {
              "outlinewidth": 0,
              "ticks": ""
             }
            },
            "type": "scattermapbox"
           }
          ],
          "scatterpolar": [
           {
            "marker": {
             "colorbar": {
              "outlinewidth": 0,
              "ticks": ""
             }
            },
            "type": "scatterpolar"
           }
          ],
          "scatterpolargl": [
           {
            "marker": {
             "colorbar": {
              "outlinewidth": 0,
              "ticks": ""
             }
            },
            "type": "scatterpolargl"
           }
          ],
          "scatterternary": [
           {
            "marker": {
             "colorbar": {
              "outlinewidth": 0,
              "ticks": ""
             }
            },
            "type": "scatterternary"
           }
          ],
          "surface": [
           {
            "colorbar": {
             "outlinewidth": 0,
             "ticks": ""
            },
            "colorscale": [
             [
              0,
              "#0d0887"
             ],
             [
              0.1111111111111111,
              "#46039f"
             ],
             [
              0.2222222222222222,
              "#7201a8"
             ],
             [
              0.3333333333333333,
              "#9c179e"
             ],
             [
              0.4444444444444444,
              "#bd3786"
             ],
             [
              0.5555555555555556,
              "#d8576b"
             ],
             [
              0.6666666666666666,
              "#ed7953"
             ],
             [
              0.7777777777777778,
              "#fb9f3a"
             ],
             [
              0.8888888888888888,
              "#fdca26"
             ],
             [
              1,
              "#f0f921"
             ]
            ],
            "type": "surface"
           }
          ],
          "table": [
           {
            "cells": {
             "fill": {
              "color": "#EBF0F8"
             },
             "line": {
              "color": "white"
             }
            },
            "header": {
             "fill": {
              "color": "#C8D4E3"
             },
             "line": {
              "color": "white"
             }
            },
            "type": "table"
           }
          ]
         },
         "layout": {
          "annotationdefaults": {
           "arrowcolor": "#2a3f5f",
           "arrowhead": 0,
           "arrowwidth": 1
          },
          "autotypenumbers": "strict",
          "coloraxis": {
           "colorbar": {
            "outlinewidth": 0,
            "ticks": ""
           }
          },
          "colorscale": {
           "diverging": [
            [
             0,
             "#8e0152"
            ],
            [
             0.1,
             "#c51b7d"
            ],
            [
             0.2,
             "#de77ae"
            ],
            [
             0.3,
             "#f1b6da"
            ],
            [
             0.4,
             "#fde0ef"
            ],
            [
             0.5,
             "#f7f7f7"
            ],
            [
             0.6,
             "#e6f5d0"
            ],
            [
             0.7,
             "#b8e186"
            ],
            [
             0.8,
             "#7fbc41"
            ],
            [
             0.9,
             "#4d9221"
            ],
            [
             1,
             "#276419"
            ]
           ],
           "sequential": [
            [
             0,
             "#0d0887"
            ],
            [
             0.1111111111111111,
             "#46039f"
            ],
            [
             0.2222222222222222,
             "#7201a8"
            ],
            [
             0.3333333333333333,
             "#9c179e"
            ],
            [
             0.4444444444444444,
             "#bd3786"
            ],
            [
             0.5555555555555556,
             "#d8576b"
            ],
            [
             0.6666666666666666,
             "#ed7953"
            ],
            [
             0.7777777777777778,
             "#fb9f3a"
            ],
            [
             0.8888888888888888,
             "#fdca26"
            ],
            [
             1,
             "#f0f921"
            ]
           ],
           "sequentialminus": [
            [
             0,
             "#0d0887"
            ],
            [
             0.1111111111111111,
             "#46039f"
            ],
            [
             0.2222222222222222,
             "#7201a8"
            ],
            [
             0.3333333333333333,
             "#9c179e"
            ],
            [
             0.4444444444444444,
             "#bd3786"
            ],
            [
             0.5555555555555556,
             "#d8576b"
            ],
            [
             0.6666666666666666,
             "#ed7953"
            ],
            [
             0.7777777777777778,
             "#fb9f3a"
            ],
            [
             0.8888888888888888,
             "#fdca26"
            ],
            [
             1,
             "#f0f921"
            ]
           ]
          },
          "colorway": [
           "#636efa",
           "#EF553B",
           "#00cc96",
           "#ab63fa",
           "#FFA15A",
           "#19d3f3",
           "#FF6692",
           "#B6E880",
           "#FF97FF",
           "#FECB52"
          ],
          "font": {
           "color": "#2a3f5f"
          },
          "geo": {
           "bgcolor": "white",
           "lakecolor": "white",
           "landcolor": "#E5ECF6",
           "showlakes": true,
           "showland": true,
           "subunitcolor": "white"
          },
          "hoverlabel": {
           "align": "left"
          },
          "hovermode": "closest",
          "mapbox": {
           "style": "light"
          },
          "paper_bgcolor": "white",
          "plot_bgcolor": "#E5ECF6",
          "polar": {
           "angularaxis": {
            "gridcolor": "white",
            "linecolor": "white",
            "ticks": ""
           },
           "bgcolor": "#E5ECF6",
           "radialaxis": {
            "gridcolor": "white",
            "linecolor": "white",
            "ticks": ""
           }
          },
          "scene": {
           "xaxis": {
            "backgroundcolor": "#E5ECF6",
            "gridcolor": "white",
            "gridwidth": 2,
            "linecolor": "white",
            "showbackground": true,
            "ticks": "",
            "zerolinecolor": "white"
           },
           "yaxis": {
            "backgroundcolor": "#E5ECF6",
            "gridcolor": "white",
            "gridwidth": 2,
            "linecolor": "white",
            "showbackground": true,
            "ticks": "",
            "zerolinecolor": "white"
           },
           "zaxis": {
            "backgroundcolor": "#E5ECF6",
            "gridcolor": "white",
            "gridwidth": 2,
            "linecolor": "white",
            "showbackground": true,
            "ticks": "",
            "zerolinecolor": "white"
           }
          },
          "shapedefaults": {
           "line": {
            "color": "#2a3f5f"
           }
          },
          "ternary": {
           "aaxis": {
            "gridcolor": "white",
            "linecolor": "white",
            "ticks": ""
           },
           "baxis": {
            "gridcolor": "white",
            "linecolor": "white",
            "ticks": ""
           },
           "bgcolor": "#E5ECF6",
           "caxis": {
            "gridcolor": "white",
            "linecolor": "white",
            "ticks": ""
           }
          },
          "title": {
           "x": 0.05
          },
          "xaxis": {
           "automargin": true,
           "gridcolor": "white",
           "linecolor": "white",
           "ticks": "",
           "title": {
            "standoff": 15
           },
           "zerolinecolor": "white",
           "zerolinewidth": 2
          },
          "yaxis": {
           "automargin": true,
           "gridcolor": "white",
           "linecolor": "white",
           "ticks": "",
           "title": {
            "standoff": 15
           },
           "zerolinecolor": "white",
           "zerolinewidth": 2
          }
         }
        },
        "title": {
         "text": "Distribution of Martyrdoms by Region"
        }
       }
      }
     },
     "metadata": {},
     "output_type": "display_data"
    },
    {
     "name": "stdout",
     "output_type": "stream",
     "text": [
      "Chart saved as '04_martyrdoms_by_region.html'\n"
     ]
    }
   ],
   "source": [
    "# Define regions\n",
    "def assign_region(location):\n",
    "    location = str(location).lower()\n",
    "    if any(x in location for x in ['rome', 'lyon', 'carthage']):\n",
    "        return 'Western Roman Empire'\n",
    "    elif any(x in location for x in ['jerusalem', 'alexandria', 'ephesus', 'smyrna', 'hieropolis', 'nicomedia']):\n",
    "        return 'Eastern Mediterranean'\n",
    "    elif any(x in location for x in ['ethiopia', 'india']):\n",
    "        return 'Africa & Asia'\n",
    "    elif any(x in location for x in ['persia', 'armenia']):\n",
    "        return 'Persia & Armenia'\n",
    "    else:\n",
    "        return 'Roman Empire (General)'\n",
    "\n",
    "df['Region'] = df['Location'].apply(assign_region)\n",
    "\n",
    "region_summary = df.groupby('Region').agg({\n",
    "    'Deaths': 'sum'\n",
    "}).sort_values('Deaths', ascending=False)\n",
    "\n",
    "print(\"\\nMartydoms by Region:\")\n",
    "print(region_summary)\n",
    "\n",
    "# Pie chart\n",
    "fig_region = px.pie(\n",
    "    region_summary.reset_index(),\n",
    "    values='Deaths',\n",
    "    names='Region',\n",
    "    title='Distribution of Martyrdoms by Region',\n",
    "    color_discrete_sequence=px.colors.sequential.Reds,\n",
    "    height=600\n",
    ")\n",
    "\n",
    "fig_region.show()\n",
    "fig_region.write_html('04_martyrdoms_by_region.html')\n",
    "print(\"Chart saved as '04_martyrdoms_by_region.html'\")"
   ]
  },
  {
   "cell_type": "markdown",
   "metadata": {},
   "source": [
    "## Key Findings\n",
    "\n",
    "### Notable Observations:\n",
    "\n",
    "1. **Diocletian's Great Persecution (303 AD)** - Accounts for ~45% of all recorded martyrdoms\n",
    "2. **Geographic Concentration** - Most persecutions occurred in the Eastern Mediterranean and Rome\n",
    "3. **Temporal Pattern** - Sporadic persecutions in 1st-3rd centuries, intensifying under Diocletian\n",
    "4. **Constantine's Impact** - 313 AD Edict of Milan marked the end of systematic Roman persecution\n",
    "5. **Regional Variation** - Persecution continued outside Roman Empire (Persia, Armenia) after 313 AD\n",
    "\n",
    "### Data Limitations:\n",
    "\n",
    "- Estimates based on historical records and church tradition\n",
    "- Exact dates and death tolls for large persecutions are uncertain\n",
    "- Some figures have legendary elements mixed with historical accounts\n",
    "- Represents only documented martyrdoms; actual totals likely much higher"
   ]
  },
  {
   "cell_type": "code",
   "execution_count": null,
   "metadata": {},
   "outputs": [
    {
     "name": "stdout",
     "output_type": "stream",
     "text": [
      "Data exported to 'early_church_martyrdoms.csv'\n"
     ]
    }
   ],
   "source": [
    "# Export data to CSV\n",
    "df.to_csv('early_church_martyrdoms.csv', index=False)\n",
    "print(\"Data exported to 'early_church_martyrdoms.csv'\")"
   ]
  }
 ],
 "metadata": {
  "kernelspec": {
   "display_name": ".venv",
   "language": "python",
   "name": "python3"
  },
  "language_info": {
   "codemirror_mode": {
    "name": "ipython",
    "version": 3
   },
   "file_extension": ".py",
   "mimetype": "text/x-python",
   "name": "python",
   "nbconvert_exporter": "python",
   "pygments_lexer": "ipython3",
   "version": "3.13.3"
  }
 },
 "nbformat": 4,
 "nbformat_minor": 4
}
